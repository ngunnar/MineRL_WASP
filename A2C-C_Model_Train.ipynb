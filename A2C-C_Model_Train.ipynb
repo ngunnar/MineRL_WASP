{
 "cells": [
  {
   "cell_type": "code",
   "execution_count": null,
   "metadata": {},
   "outputs": [],
   "source": [
    "import gym\n",
    "import minerl\n",
    "from stable_baselines.common.policies import MlpPolicy\n",
    "from stable_baselines import A2C\n",
    "from Wrappers import ActionWrapper"
   ]
  },
  {
   "cell_type": "code",
   "execution_count": null,
   "metadata": {},
   "outputs": [],
   "source": [
    "import logging\n",
    "logging.basicConfig(level=logging.INFO)\n",
    "env = gym.make('MineRLNavigateDense-v0')"
   ]
  },
  {
   "cell_type": "code",
   "execution_count": null,
   "metadata": {},
   "outputs": [],
   "source": [
    "new_env = gym.wrappers.FlattenObservation(gym.wrappers.FilterObservation(env, [\"compassAngle\"]))\n",
    "new_env = ActionWrapper(new_env)"
   ]
  },
  {
   "cell_type": "code",
   "execution_count": null,
   "metadata": {},
   "outputs": [],
   "source": [
    "modelplus = A2C(MlpPolicy, new_env, verbose=1, tensorboard_log=\"./mineRL_tensorboard/\")"
   ]
  },
  {
   "cell_type": "code",
   "execution_count": null,
   "metadata": {},
   "outputs": [],
   "source": [
    "for i in range(1, 10):\n",
    "    modelplus.learn(total_timesteps=10000, reset_num_timesteps=False)\n",
    "    modelplus.save(\"a2c_mineRL_MLP_{0}\".format(i))\n",
    "    modelplus.learning_rate = modelplus.learning_rate/2"
   ]
  }
 ],
 "metadata": {
  "kernelspec": {
   "display_name": "Python [conda env:MineRL] *",
   "language": "python",
   "name": "conda-env-MineRL-py"
  },
  "language_info": {
   "codemirror_mode": {
    "name": "ipython",
    "version": 3
   },
   "file_extension": ".py",
   "mimetype": "text/x-python",
   "name": "python",
   "nbconvert_exporter": "python",
   "pygments_lexer": "ipython3",
   "version": "3.7.8"
  }
 },
 "nbformat": 4,
 "nbformat_minor": 4
}
