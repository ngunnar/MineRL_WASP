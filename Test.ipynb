{
 "cells": [
  {
   "cell_type": "code",
   "execution_count": null,
   "metadata": {},
   "outputs": [],
   "source": [
    "import gym\n",
    "import minerl\n",
    "from stable_baselines.common.policies import MlpPolicy, CnnPolicy, CnnLnLstmPolicy\n",
    "from stable_baselines.common import make_vec_env\n",
    "from stable_baselines import A2C\n",
    "from Wrappers import ActionWrapper, ObsWrapper"
   ]
  },
  {
   "cell_type": "code",
   "execution_count": null,
   "metadata": {},
   "outputs": [],
   "source": [
    "import logging\n",
    "logging.basicConfig(level=logging.INFO)\n",
    "env = gym.make('MineRLNavigateDense-v0')"
   ]
  },
  {
   "cell_type": "markdown",
   "metadata": {},
   "source": [
    "# A2C-C"
   ]
  },
  {
   "cell_type": "code",
   "execution_count": null,
   "metadata": {},
   "outputs": [],
   "source": [
    "import numpy as np\n",
    "import time\n",
    "\n",
    "model_c = A2C.load(\"a2c_mineRL_MLP_2\")\n",
    "env_c1 = gym.wrappers.FlattenObservation(gym.wrappers.FilterObservation(env, [\"compassAngle\"]))\n",
    "env_c2 = ActionWrapper(env_c1)\n",
    "\n",
    "\n",
    "obs = env_c2.reset()\n",
    "tot_reward = 0\n",
    "while True:\n",
    "    action, _states = model_c.predict(obs)\n",
    "    obs, reward, done, info = env_c2.step(action)\n",
    "    tot_reward += reward\n",
    "    env.render()\n",
    "    print(tot_reward)\n",
    "    if done:\n",
    "        print(\"Done\", done)\n",
    "        break"
   ]
  },
  {
   "cell_type": "markdown",
   "metadata": {
    "scrolled": true
   },
   "source": [
    "# A2C-CI"
   ]
  },
  {
   "cell_type": "code",
   "execution_count": null,
   "metadata": {
    "scrolled": true
   },
   "outputs": [],
   "source": [
    "import numpy as np\n",
    "import time\n",
    "\n",
    "env_ci = ObsWrapper((64, 64), env)\n",
    "env_ci = ActionWrapper(env_ci)\n",
    "model_ci = A2C.load(\"a2c_mineRL_CnnMLP_2\")\n",
    "\n",
    "obs = env_ci.reset()\n",
    "tot_reward = 0\n",
    "while True:\n",
    "    action, _states = model_ci.predict(obs)\n",
    "    obs, reward, done, info = env_ci.step(action)\n",
    "    tot_reward += reward\n",
    "    env.render()\n",
    "    print(tot_reward)\n",
    "    if done:\n",
    "        print(\"Done\", done)\n",
    "        break"
   ]
  },
  {
   "cell_type": "markdown",
   "metadata": {},
   "source": [
    "# Random"
   ]
  },
  {
   "cell_type": "code",
   "execution_count": null,
   "metadata": {},
   "outputs": [],
   "source": [
    "import numpy as np\n",
    "\n",
    "obs = env.reset()\n",
    "\n",
    "tot_reward = 0\n",
    "max_i = 2000\n",
    "i = 0\n",
    "while True:\n",
    "    action = env.action_space.sample()\n",
    "    obs, reward, done, info = env.step(action)\n",
    "    tot_reward += reward\n",
    "    env.render()\n",
    "    print(tot_reward)\n",
    "    if done or i >= max_i:\n",
    "        print(\"Done\", done)\n",
    "        break\n",
    "    i += 1"
   ]
  }
 ],
 "metadata": {
  "kernelspec": {
   "display_name": "Python [conda env:MineRL] *",
   "language": "python",
   "name": "conda-env-MineRL-py"
  },
  "language_info": {
   "codemirror_mode": {
    "name": "ipython",
    "version": 3
   },
   "file_extension": ".py",
   "mimetype": "text/x-python",
   "name": "python",
   "nbconvert_exporter": "python",
   "pygments_lexer": "ipython3",
   "version": "3.7.8"
  }
 },
 "nbformat": 4,
 "nbformat_minor": 4
}
