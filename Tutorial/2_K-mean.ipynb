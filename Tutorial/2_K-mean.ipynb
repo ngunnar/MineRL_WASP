{
 "cells": [
  {
   "cell_type": "code",
   "execution_count": 2,
   "metadata": {},
   "outputs": [
    {
     "name": "stderr",
     "output_type": "stream",
     "text": [
      "C:\\Users\\ngune07417\\AppData\\Roaming\\Python\\Python37\\site-packages\\gym\\logger.py:30: UserWarning: \u001b[33mWARN: Box bound precision lowered by casting to float32\u001b[0m\n",
      "  warnings.warn(colorize('%s: %s'%('WARN', msg % args), 'yellow'))\n"
     ]
    }
   ],
   "source": [
    "import minerl\n",
    "\n",
    "download_data = False\n",
    "\n",
    "if download_data:\n",
    "    import os\n",
    "    data_path = 'C:\\temp\\data'\n",
    "    os.environ[\"MINERL_DATA_ROOT\"] = data_path\n",
    "    minerl.data.download(experiment=\"MineRLTreechopVectorObf-v0\")    "
   ]
  },
  {
   "cell_type": "code",
   "execution_count": 5,
   "metadata": {},
   "outputs": [
    {
     "name": "stderr",
     "output_type": "stream",
     "text": [
      "0it [00:00, ?it/s]\n",
      "  0%|                                                                                                                                                                 | 0/209 [00:00<?, ?it/s]\u001b[A\n",
      "100%|██████████████████████████████████████████████████████████████████████████████████████████████████████████████████████████████████████████████████████| 209/209 [00:00<00:00, 691.36it/s]\u001b[A\n",
      "755it [01:06, 67.93it/s]Exception in thread QueueManagerThread:\n",
      "Traceback (most recent call last):\n",
      "  File \"C:\\ProgramData\\Anaconda3\\envs\\MineRL\\lib\\threading.py\", line 926, in _bootstrap_inner\n",
      "    self.run()\n",
      "  File \"C:\\ProgramData\\Anaconda3\\envs\\MineRL\\lib\\threading.py\", line 870, in run\n",
      "    self._target(*self._args, **self._kwargs)\n",
      "  File \"C:\\ProgramData\\Anaconda3\\envs\\MineRL\\lib\\concurrent\\futures\\process.py\", line 361, in _queue_management_worker\n",
      "    ready = wait(readers + worker_sentinels)\n",
      "  File \"C:\\ProgramData\\Anaconda3\\envs\\MineRL\\lib\\multiprocessing\\connection.py\", line 873, in wait\n",
      "    ov.cancel()\n",
      "OSError: [WinError 6] The handle is invalid\n",
      "\n",
      "838it [01:07, 60.03it/s]\n",
      "  0%|                                                                                                                                                                 | 0/209 [00:00<?, ?it/s]\u001b[A\n",
      "100%|██████████████████████████████████████████████████████████████████████████████████████████████████████████████████████████████████████████████████████| 209/209 [00:00<00:00, 760.74it/s]\u001b[A\n",
      "1000it [01:40,  9.98it/s]\n"
     ]
    }
   ],
   "source": [
    "from sklearn.cluster import KMeans\n",
    "import tqdm\n",
    "import numpy as np\n",
    "\n",
    "dat = minerl.data.make('MineRLTreechopVectorObf-v0')\n",
    "\n",
    "# Load the dataset storing 1000 batches of actions\n",
    "act_vectors = []\n",
    "for _, act, _, _,_ in tqdm.tqdm(dat.batch_iter(16, 32, 2, preload_buffer_size=20)):\n",
    "    act_vectors.append(act['vector'])\n",
    "    if len(act_vectors) > 1000:\n",
    "        break\n",
    "\n",
    "# Reshape these the action batches\n",
    "acts = np.concatenate(act_vectors).reshape(-1, 64)\n",
    "kmeans_acts = acts[:100000]\n",
    "\n",
    "# Use sklearn to cluster the demonstrated actions\n",
    "kmeans = KMeans(n_clusters=32, random_state=0).fit(kmeans_acts)"
   ]
  },
  {
   "cell_type": "code",
   "execution_count": 14,
   "metadata": {},
   "outputs": [
    {
     "name": "stdout",
     "output_type": "stream",
     "text": [
      "Total reward:  0.0\n"
     ]
    }
   ],
   "source": [
    "import gym\n",
    "\n",
    "NUM_CLUSTERS = 32\n",
    "i, net_reward, done = 0, 0, False\n",
    "\n",
    "if 'env' not in locals():\n",
    "    env = gym.make('MineRLTreechopVectorObf-v0')\n",
    "\n",
    "obs = env.reset()\n",
    "\n",
    "while not done:\n",
    "    # Let's use a frame skip of 4 (could you do better than a hard-coded frame skip?)\n",
    "    if i % 4 == 0:\n",
    "        action = {\n",
    "            'vector': kmeans.cluster_centers_[np.random.choice(NUM_CLUSTERS)]\n",
    "        }\n",
    "\n",
    "    obs, reward, done, info = env.step(action)\n",
    "    #env.render()\n",
    "\n",
    "    if reward > 0:\n",
    "        print(\"+{} reward!\".format(reward))\n",
    "    net_reward += reward\n",
    "    i += 1\n",
    "\n",
    "print(\"Total reward: \", net_reward)"
   ]
  }
 ],
 "metadata": {
  "kernelspec": {
   "display_name": "Python [conda env:MineRL]",
   "language": "python",
   "name": "conda-env-MineRL-py"
  },
  "language_info": {
   "codemirror_mode": {
    "name": "ipython",
    "version": 3
   },
   "file_extension": ".py",
   "mimetype": "text/x-python",
   "name": "python",
   "nbconvert_exporter": "python",
   "pygments_lexer": "ipython3",
   "version": "3.7.8"
  }
 },
 "nbformat": 4,
 "nbformat_minor": 2
}
