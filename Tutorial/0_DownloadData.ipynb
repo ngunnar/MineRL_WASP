{
 "cells": [
  {
   "cell_type": "code",
   "execution_count": 1,
   "metadata": {},
   "outputs": [
    {
     "name": "stdout",
     "output_type": "stream",
     "text": [
      "C:\\Data\\MineRL\n",
      "C:/temp/data\n"
     ]
    }
   ],
   "source": [
    "import os\n",
    "print(os.environ[\"MINERL_DATA_ROOT\"])\n",
    "data_path = 'C:\\temp\\data'\n",
    "os.environ[\"MINERL_DATA_ROOT\"] = data_path\n",
    "print(os.environ[\"MINERL_DATA_ROOT\"])\n",
    "all_data = False"
   ]
  },
  {
   "cell_type": "code",
   "execution_count": 2,
   "metadata": {},
   "outputs": [
    {
     "name": "stderr",
     "output_type": "stream",
     "text": [
      "C:\\Users\\ngune07417\\AppData\\Roaming\\Python\\Python37\\site-packages\\gym\\logger.py:30: UserWarning: \u001b[33mWARN: Box bound precision lowered by casting to float32\u001b[0m\n",
      "  warnings.warn(colorize('%s: %s'%('WARN', msg % args), 'yellow'))\n",
      "As of MineRL 0.3.0 automatic hash checking has been disabled.\n",
      "Download: https://minerl.s3.amazonaws.com/v3/MineRLObtainDiamond-v0.tar: 3650.0MB [30:17,  2.01MB/s]                                                                                          \n"
     ]
    }
   ],
   "source": [
    "import minerl\n",
    "\n",
    "if all_data:\n",
    "    minerl.data.download()\n",
    "else:\n",
    "    minerl.data.download(experiment=\"MineRLObtainDiamond-v0\")"
   ]
  }
 ],
 "metadata": {
  "kernelspec": {
   "display_name": "Python [conda env:MineRL]",
   "language": "python",
   "name": "conda-env-MineRL-py"
  },
  "language_info": {
   "codemirror_mode": {
    "name": "ipython",
    "version": 3
   },
   "file_extension": ".py",
   "mimetype": "text/x-python",
   "name": "python",
   "nbconvert_exporter": "python",
   "pygments_lexer": "ipython3",
   "version": "3.7.8"
  }
 },
 "nbformat": 4,
 "nbformat_minor": 2
}
